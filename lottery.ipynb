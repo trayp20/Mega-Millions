{
 "cells": [
  {
   "cell_type": "markdown",
   "id": "96ef57e4",
   "metadata": {},
   "source": [
    "# Step 1: Data Loading and Preprocess the data\n"
   ]
  },
  {
   "cell_type": "code",
   "execution_count": 7,
   "id": "e72e4003",
   "metadata": {},
   "outputs": [],
   "source": [
    "import pandas as pd\n",
    "import numpy as np\n",
    "from sklearn.model_selection import train_test_split\n",
    "from tensorflow.keras.utils import to_categorical"
   ]
  },
  {
   "cell_type": "code",
   "execution_count": 4,
   "id": "52272851",
   "metadata": {},
   "outputs": [
    {
     "data": {
      "text/html": [
       "<div>\n",
       "<style scoped>\n",
       "    .dataframe tbody tr th:only-of-type {\n",
       "        vertical-align: middle;\n",
       "    }\n",
       "\n",
       "    .dataframe tbody tr th {\n",
       "        vertical-align: top;\n",
       "    }\n",
       "\n",
       "    .dataframe thead th {\n",
       "        text-align: right;\n",
       "    }\n",
       "</style>\n",
       "<table border=\"1\" class=\"dataframe\">\n",
       "  <thead>\n",
       "    <tr style=\"text-align: right;\">\n",
       "      <th></th>\n",
       "      <th>Draw Date</th>\n",
       "      <th>Winning Numbers</th>\n",
       "      <th>Mega Ball</th>\n",
       "      <th>Multiplier</th>\n",
       "    </tr>\n",
       "  </thead>\n",
       "  <tbody>\n",
       "    <tr>\n",
       "      <th>0</th>\n",
       "      <td>09/25/2020</td>\n",
       "      <td>20 36 37 48 67</td>\n",
       "      <td>16</td>\n",
       "      <td>2.0</td>\n",
       "    </tr>\n",
       "    <tr>\n",
       "      <th>1</th>\n",
       "      <td>09/29/2020</td>\n",
       "      <td>14 39 43 44 67</td>\n",
       "      <td>19</td>\n",
       "      <td>3.0</td>\n",
       "    </tr>\n",
       "    <tr>\n",
       "      <th>2</th>\n",
       "      <td>10/02/2020</td>\n",
       "      <td>09 38 47 49 68</td>\n",
       "      <td>25</td>\n",
       "      <td>2.0</td>\n",
       "    </tr>\n",
       "    <tr>\n",
       "      <th>3</th>\n",
       "      <td>10/06/2020</td>\n",
       "      <td>15 16 18 39 59</td>\n",
       "      <td>17</td>\n",
       "      <td>3.0</td>\n",
       "    </tr>\n",
       "    <tr>\n",
       "      <th>4</th>\n",
       "      <td>10/09/2020</td>\n",
       "      <td>05 11 25 27 64</td>\n",
       "      <td>13</td>\n",
       "      <td>2.0</td>\n",
       "    </tr>\n",
       "  </tbody>\n",
       "</table>\n",
       "</div>"
      ],
      "text/plain": [
       "    Draw Date Winning Numbers  Mega Ball  Multiplier\n",
       "0  09/25/2020  20 36 37 48 67         16         2.0\n",
       "1  09/29/2020  14 39 43 44 67         19         3.0\n",
       "2  10/02/2020  09 38 47 49 68         25         2.0\n",
       "3  10/06/2020  15 16 18 39 59         17         3.0\n",
       "4  10/09/2020  05 11 25 27 64         13         2.0"
      ]
     },
     "execution_count": 4,
     "metadata": {},
     "output_type": "execute_result"
    }
   ],
   "source": [
    "df = pd.read_csv('Lottery_Mega_Millions_Winning_Numbers.csv')\n",
    "df.head()"
   ]
  },
  {
   "cell_type": "code",
   "execution_count": 5,
   "id": "8305a644",
   "metadata": {},
   "outputs": [],
   "source": [
    "#Parse white balls into separate columns\n",
    "white = df['Winning Numbers'] \\\n",
    "          .str.split(' ', expand=True) \\\n",
    "          .astype(int) "
   ]
  },
  {
   "cell_type": "code",
   "execution_count": 11,
   "id": "00593824",
   "metadata": {},
   "outputs": [],
   "source": [
    "# Dynamically find the max white-ball and mega-ball values\n",
    "max_white = int(white.max().max())        # e.g. 75\n",
    "max_mega  = int(df['Mega Ball'].max())    # e.g. 25\n"
   ]
  },
  {
   "cell_type": "code",
   "execution_count": 13,
   "id": "70b0bac3",
   "metadata": {},
   "outputs": [],
   "source": [
    "#Build multi-hot encoding for whites\n",
    "X = np.zeros((len(df), max_white), dtype=int)\n",
    "for i, nums in white.iterrows():\n",
    "    # subtract 1 because Python is 0-indexed\n",
    "    X[i, nums.values - 1] = 1"
   ]
  },
  {
   "cell_type": "code",
   "execution_count": 14,
   "id": "3f519273",
   "metadata": {},
   "outputs": [],
   "source": [
    "#One-hot encode the Mega Ball\n",
    "y_labels = df['Mega Ball'].astype(int).values - 1\n",
    "y = to_categorical(y_labels, num_classes=max_mega)"
   ]
  },
  {
   "cell_type": "markdown",
   "id": "469bbf8b",
   "metadata": {},
   "source": [
    "# Train/test split"
   ]
  },
  {
   "cell_type": "code",
   "execution_count": 17,
   "id": "da8f7f2b",
   "metadata": {},
   "outputs": [],
   "source": [
    "#Split into train/test\n",
    "X_train, X_test, y_train, y_test = train_test_split(\n",
    "    X, y, test_size=0.15, random_state=42\n",
    ")"
   ]
  },
  {
   "cell_type": "markdown",
   "id": "afac7840",
   "metadata": {},
   "source": [
    "# Build the Keras model"
   ]
  },
  {
   "cell_type": "code",
   "execution_count": 21,
   "id": "55232e12",
   "metadata": {},
   "outputs": [
    {
     "data": {
      "text/html": [
       "<pre style=\"white-space:pre;overflow-x:auto;line-height:normal;font-family:Menlo,'DejaVu Sans Mono',consolas,'Courier New',monospace\"><span style=\"font-weight: bold\">Model: \"sequential_1\"</span>\n",
       "</pre>\n"
      ],
      "text/plain": [
       "\u001b[1mModel: \"sequential_1\"\u001b[0m\n"
      ]
     },
     "metadata": {},
     "output_type": "display_data"
    },
    {
     "data": {
      "text/html": [
       "<pre style=\"white-space:pre;overflow-x:auto;line-height:normal;font-family:Menlo,'DejaVu Sans Mono',consolas,'Courier New',monospace\">┏━━━━━━━━━━━━━━━━━━━━━━━━━━━━━━━━━┳━━━━━━━━━━━━━━━━━━━━━━━━┳━━━━━━━━━━━━━━━┓\n",
       "┃<span style=\"font-weight: bold\"> Layer (type)                    </span>┃<span style=\"font-weight: bold\"> Output Shape           </span>┃<span style=\"font-weight: bold\">       Param # </span>┃\n",
       "┡━━━━━━━━━━━━━━━━━━━━━━━━━━━━━━━━━╇━━━━━━━━━━━━━━━━━━━━━━━━╇━━━━━━━━━━━━━━━┩\n",
       "│ dense_3 (<span style=\"color: #0087ff; text-decoration-color: #0087ff\">Dense</span>)                 │ (<span style=\"color: #00d7ff; text-decoration-color: #00d7ff\">None</span>, <span style=\"color: #00af00; text-decoration-color: #00af00\">128</span>)            │         <span style=\"color: #00af00; text-decoration-color: #00af00\">9,728</span> │\n",
       "├─────────────────────────────────┼────────────────────────┼───────────────┤\n",
       "│ dense_4 (<span style=\"color: #0087ff; text-decoration-color: #0087ff\">Dense</span>)                 │ (<span style=\"color: #00d7ff; text-decoration-color: #00d7ff\">None</span>, <span style=\"color: #00af00; text-decoration-color: #00af00\">64</span>)             │         <span style=\"color: #00af00; text-decoration-color: #00af00\">8,256</span> │\n",
       "├─────────────────────────────────┼────────────────────────┼───────────────┤\n",
       "│ dense_5 (<span style=\"color: #0087ff; text-decoration-color: #0087ff\">Dense</span>)                 │ (<span style=\"color: #00d7ff; text-decoration-color: #00d7ff\">None</span>, <span style=\"color: #00af00; text-decoration-color: #00af00\">52</span>)             │         <span style=\"color: #00af00; text-decoration-color: #00af00\">3,380</span> │\n",
       "└─────────────────────────────────┴────────────────────────┴───────────────┘\n",
       "</pre>\n"
      ],
      "text/plain": [
       "┏━━━━━━━━━━━━━━━━━━━━━━━━━━━━━━━━━┳━━━━━━━━━━━━━━━━━━━━━━━━┳━━━━━━━━━━━━━━━┓\n",
       "┃\u001b[1m \u001b[0m\u001b[1mLayer (type)                   \u001b[0m\u001b[1m \u001b[0m┃\u001b[1m \u001b[0m\u001b[1mOutput Shape          \u001b[0m\u001b[1m \u001b[0m┃\u001b[1m \u001b[0m\u001b[1m      Param #\u001b[0m\u001b[1m \u001b[0m┃\n",
       "┡━━━━━━━━━━━━━━━━━━━━━━━━━━━━━━━━━╇━━━━━━━━━━━━━━━━━━━━━━━━╇━━━━━━━━━━━━━━━┩\n",
       "│ dense_3 (\u001b[38;5;33mDense\u001b[0m)                 │ (\u001b[38;5;45mNone\u001b[0m, \u001b[38;5;34m128\u001b[0m)            │         \u001b[38;5;34m9,728\u001b[0m │\n",
       "├─────────────────────────────────┼────────────────────────┼───────────────┤\n",
       "│ dense_4 (\u001b[38;5;33mDense\u001b[0m)                 │ (\u001b[38;5;45mNone\u001b[0m, \u001b[38;5;34m64\u001b[0m)             │         \u001b[38;5;34m8,256\u001b[0m │\n",
       "├─────────────────────────────────┼────────────────────────┼───────────────┤\n",
       "│ dense_5 (\u001b[38;5;33mDense\u001b[0m)                 │ (\u001b[38;5;45mNone\u001b[0m, \u001b[38;5;34m52\u001b[0m)             │         \u001b[38;5;34m3,380\u001b[0m │\n",
       "└─────────────────────────────────┴────────────────────────┴───────────────┘\n"
      ]
     },
     "metadata": {},
     "output_type": "display_data"
    },
    {
     "data": {
      "text/html": [
       "<pre style=\"white-space:pre;overflow-x:auto;line-height:normal;font-family:Menlo,'DejaVu Sans Mono',consolas,'Courier New',monospace\"><span style=\"font-weight: bold\"> Total params: </span><span style=\"color: #00af00; text-decoration-color: #00af00\">21,364</span> (83.45 KB)\n",
       "</pre>\n"
      ],
      "text/plain": [
       "\u001b[1m Total params: \u001b[0m\u001b[38;5;34m21,364\u001b[0m (83.45 KB)\n"
      ]
     },
     "metadata": {},
     "output_type": "display_data"
    },
    {
     "data": {
      "text/html": [
       "<pre style=\"white-space:pre;overflow-x:auto;line-height:normal;font-family:Menlo,'DejaVu Sans Mono',consolas,'Courier New',monospace\"><span style=\"font-weight: bold\"> Trainable params: </span><span style=\"color: #00af00; text-decoration-color: #00af00\">21,364</span> (83.45 KB)\n",
       "</pre>\n"
      ],
      "text/plain": [
       "\u001b[1m Trainable params: \u001b[0m\u001b[38;5;34m21,364\u001b[0m (83.45 KB)\n"
      ]
     },
     "metadata": {},
     "output_type": "display_data"
    },
    {
     "data": {
      "text/html": [
       "<pre style=\"white-space:pre;overflow-x:auto;line-height:normal;font-family:Menlo,'DejaVu Sans Mono',consolas,'Courier New',monospace\"><span style=\"font-weight: bold\"> Non-trainable params: </span><span style=\"color: #00af00; text-decoration-color: #00af00\">0</span> (0.00 B)\n",
       "</pre>\n"
      ],
      "text/plain": [
       "\u001b[1m Non-trainable params: \u001b[0m\u001b[38;5;34m0\u001b[0m (0.00 B)\n"
      ]
     },
     "metadata": {},
     "output_type": "display_data"
    }
   ],
   "source": [
    "from tensorflow.keras.models import Sequential\n",
    "from tensorflow.keras.layers import Dense\n",
    "\n",
    "n_whites = X.shape[1]         # now 75\n",
    "n_mega   = y.shape[1]         # e.g. 25\n",
    "\n",
    "model = Sequential([\n",
    "    Dense(128, activation='relu', input_shape=(n_whites,)),\n",
    "    Dense(64,  activation='relu'),\n",
    "    Dense(n_mega, activation='softmax')\n",
    "])\n",
    "\n",
    "model.compile(\n",
    "    optimizer='adam',\n",
    "    loss='categorical_crossentropy',\n",
    "    metrics=['accuracy']\n",
    ")\n",
    "model.summary()"
   ]
  },
  {
   "cell_type": "markdown",
   "id": "6b5011ca",
   "metadata": {},
   "source": [
    "# Train "
   ]
  },
  {
   "cell_type": "code",
   "execution_count": 22,
   "id": "7bab65c5",
   "metadata": {},
   "outputs": [
    {
     "name": "stdout",
     "output_type": "stream",
     "text": [
      "Epoch 1/30\n",
      "\u001b[1m58/58\u001b[0m \u001b[32m━━━━━━━━━━━━━━━━━━━━\u001b[0m\u001b[37m\u001b[0m \u001b[1m0s\u001b[0m 2ms/step - accuracy: 0.0230 - loss: 3.9215 - val_accuracy: 0.0146 - val_loss: 3.8482\n",
      "Epoch 2/30\n",
      "\u001b[1m58/58\u001b[0m \u001b[32m━━━━━━━━━━━━━━━━━━━━\u001b[0m\u001b[37m\u001b[0m \u001b[1m0s\u001b[0m 760us/step - accuracy: 0.0526 - loss: 3.7540 - val_accuracy: 0.0194 - val_loss: 3.7728\n",
      "Epoch 3/30\n",
      "\u001b[1m58/58\u001b[0m \u001b[32m━━━━━━━━━━━━━━━━━━━━\u001b[0m\u001b[37m\u001b[0m \u001b[1m0s\u001b[0m 708us/step - accuracy: 0.0702 - loss: 3.6816 - val_accuracy: 0.0146 - val_loss: 3.7462\n",
      "Epoch 4/30\n",
      "\u001b[1m58/58\u001b[0m \u001b[32m━━━━━━━━━━━━━━━━━━━━\u001b[0m\u001b[37m\u001b[0m \u001b[1m0s\u001b[0m 717us/step - accuracy: 0.0923 - loss: 3.5737 - val_accuracy: 0.0291 - val_loss: 3.7301\n",
      "Epoch 5/30\n",
      "\u001b[1m58/58\u001b[0m \u001b[32m━━━━━━━━━━━━━━━━━━━━\u001b[0m\u001b[37m\u001b[0m \u001b[1m0s\u001b[0m 711us/step - accuracy: 0.1042 - loss: 3.5215 - val_accuracy: 0.0437 - val_loss: 3.7238\n",
      "Epoch 6/30\n",
      "\u001b[1m58/58\u001b[0m \u001b[32m━━━━━━━━━━━━━━━━━━━━\u001b[0m\u001b[37m\u001b[0m \u001b[1m0s\u001b[0m 701us/step - accuracy: 0.1415 - loss: 3.4303 - val_accuracy: 0.0194 - val_loss: 3.7304\n",
      "Epoch 7/30\n",
      "\u001b[1m58/58\u001b[0m \u001b[32m━━━━━━━━━━━━━━━━━━━━\u001b[0m\u001b[37m\u001b[0m \u001b[1m0s\u001b[0m 697us/step - accuracy: 0.1348 - loss: 3.4101 - val_accuracy: 0.0388 - val_loss: 3.7472\n",
      "Epoch 8/30\n",
      "\u001b[1m58/58\u001b[0m \u001b[32m━━━━━━━━━━━━━━━━━━━━\u001b[0m\u001b[37m\u001b[0m \u001b[1m0s\u001b[0m 693us/step - accuracy: 0.1563 - loss: 3.3031 - val_accuracy: 0.0437 - val_loss: 3.7805\n",
      "Epoch 9/30\n",
      "\u001b[1m58/58\u001b[0m \u001b[32m━━━━━━━━━━━━━━━━━━━━\u001b[0m\u001b[37m\u001b[0m \u001b[1m0s\u001b[0m 694us/step - accuracy: 0.1619 - loss: 3.2101 - val_accuracy: 0.0388 - val_loss: 3.7909\n",
      "Epoch 10/30\n",
      "\u001b[1m58/58\u001b[0m \u001b[32m━━━━━━━━━━━━━━━━━━━━\u001b[0m\u001b[37m\u001b[0m \u001b[1m0s\u001b[0m 701us/step - accuracy: 0.2023 - loss: 3.1152 - val_accuracy: 0.0437 - val_loss: 3.8262\n",
      "Epoch 11/30\n",
      "\u001b[1m58/58\u001b[0m \u001b[32m━━━━━━━━━━━━━━━━━━━━\u001b[0m\u001b[37m\u001b[0m \u001b[1m0s\u001b[0m 698us/step - accuracy: 0.1888 - loss: 3.0435 - val_accuracy: 0.0291 - val_loss: 3.8481\n",
      "Epoch 12/30\n",
      "\u001b[1m58/58\u001b[0m \u001b[32m━━━━━━━━━━━━━━━━━━━━\u001b[0m\u001b[37m\u001b[0m \u001b[1m0s\u001b[0m 699us/step - accuracy: 0.2408 - loss: 2.9558 - val_accuracy: 0.0243 - val_loss: 3.8949\n",
      "Epoch 13/30\n",
      "\u001b[1m58/58\u001b[0m \u001b[32m━━━━━━━━━━━━━━━━━━━━\u001b[0m\u001b[37m\u001b[0m \u001b[1m0s\u001b[0m 708us/step - accuracy: 0.2454 - loss: 2.9013 - val_accuracy: 0.0340 - val_loss: 3.9590\n",
      "Epoch 14/30\n",
      "\u001b[1m58/58\u001b[0m \u001b[32m━━━━━━━━━━━━━━━━━━━━\u001b[0m\u001b[37m\u001b[0m \u001b[1m0s\u001b[0m 855us/step - accuracy: 0.2602 - loss: 2.8173 - val_accuracy: 0.0340 - val_loss: 3.9866\n",
      "Epoch 15/30\n",
      "\u001b[1m58/58\u001b[0m \u001b[32m━━━━━━━━━━━━━━━━━━━━\u001b[0m\u001b[37m\u001b[0m \u001b[1m0s\u001b[0m 690us/step - accuracy: 0.2861 - loss: 2.7418 - val_accuracy: 0.0291 - val_loss: 4.0474\n",
      "Epoch 16/30\n",
      "\u001b[1m58/58\u001b[0m \u001b[32m━━━━━━━━━━━━━━━━━━━━\u001b[0m\u001b[37m\u001b[0m \u001b[1m0s\u001b[0m 697us/step - accuracy: 0.2998 - loss: 2.6556 - val_accuracy: 0.0291 - val_loss: 4.0949\n",
      "Epoch 17/30\n",
      "\u001b[1m58/58\u001b[0m \u001b[32m━━━━━━━━━━━━━━━━━━━━\u001b[0m\u001b[37m\u001b[0m \u001b[1m0s\u001b[0m 687us/step - accuracy: 0.3195 - loss: 2.5571 - val_accuracy: 0.0388 - val_loss: 4.1466\n",
      "Epoch 18/30\n",
      "\u001b[1m58/58\u001b[0m \u001b[32m━━━━━━━━━━━━━━━━━━━━\u001b[0m\u001b[37m\u001b[0m \u001b[1m0s\u001b[0m 693us/step - accuracy: 0.3230 - loss: 2.5071 - val_accuracy: 0.0243 - val_loss: 4.1867\n",
      "Epoch 19/30\n",
      "\u001b[1m58/58\u001b[0m \u001b[32m━━━━━━━━━━━━━━━━━━━━\u001b[0m\u001b[37m\u001b[0m \u001b[1m0s\u001b[0m 679us/step - accuracy: 0.3593 - loss: 2.4456 - val_accuracy: 0.0340 - val_loss: 4.2537\n",
      "Epoch 20/30\n",
      "\u001b[1m58/58\u001b[0m \u001b[32m━━━━━━━━━━━━━━━━━━━━\u001b[0m\u001b[37m\u001b[0m \u001b[1m0s\u001b[0m 678us/step - accuracy: 0.3920 - loss: 2.3157 - val_accuracy: 0.0388 - val_loss: 4.3298\n",
      "Epoch 21/30\n",
      "\u001b[1m58/58\u001b[0m \u001b[32m━━━━━━━━━━━━━━━━━━━━\u001b[0m\u001b[37m\u001b[0m \u001b[1m0s\u001b[0m 679us/step - accuracy: 0.4263 - loss: 2.2158 - val_accuracy: 0.0340 - val_loss: 4.3631\n",
      "Epoch 22/30\n",
      "\u001b[1m58/58\u001b[0m \u001b[32m━━━━━━━━━━━━━━━━━━━━\u001b[0m\u001b[37m\u001b[0m \u001b[1m0s\u001b[0m 671us/step - accuracy: 0.4277 - loss: 2.2063 - val_accuracy: 0.0340 - val_loss: 4.4069\n",
      "Epoch 23/30\n",
      "\u001b[1m58/58\u001b[0m \u001b[32m━━━━━━━━━━━━━━━━━━━━\u001b[0m\u001b[37m\u001b[0m \u001b[1m0s\u001b[0m 678us/step - accuracy: 0.4580 - loss: 2.0998 - val_accuracy: 0.0340 - val_loss: 4.4758\n",
      "Epoch 24/30\n",
      "\u001b[1m58/58\u001b[0m \u001b[32m━━━━━━━━━━━━━━━━━━━━\u001b[0m\u001b[37m\u001b[0m \u001b[1m0s\u001b[0m 734us/step - accuracy: 0.4765 - loss: 2.0633 - val_accuracy: 0.0485 - val_loss: 4.5550\n",
      "Epoch 25/30\n",
      "\u001b[1m58/58\u001b[0m \u001b[32m━━━━━━━━━━━━━━━━━━━━\u001b[0m\u001b[37m\u001b[0m \u001b[1m0s\u001b[0m 680us/step - accuracy: 0.5130 - loss: 1.9631 - val_accuracy: 0.0291 - val_loss: 4.5954\n",
      "Epoch 26/30\n",
      "\u001b[1m58/58\u001b[0m \u001b[32m━━━━━━━━━━━━━━━━━━━━\u001b[0m\u001b[37m\u001b[0m \u001b[1m0s\u001b[0m 679us/step - accuracy: 0.5065 - loss: 1.8938 - val_accuracy: 0.0340 - val_loss: 4.6612\n",
      "Epoch 27/30\n",
      "\u001b[1m58/58\u001b[0m \u001b[32m━━━━━━━━━━━━━━━━━━━━\u001b[0m\u001b[37m\u001b[0m \u001b[1m0s\u001b[0m 680us/step - accuracy: 0.5756 - loss: 1.8211 - val_accuracy: 0.0243 - val_loss: 4.7609\n",
      "Epoch 28/30\n",
      "\u001b[1m58/58\u001b[0m \u001b[32m━━━━━━━━━━━━━━━━━━━━\u001b[0m\u001b[37m\u001b[0m \u001b[1m0s\u001b[0m 679us/step - accuracy: 0.5734 - loss: 1.7472 - val_accuracy: 0.0388 - val_loss: 4.7973\n",
      "Epoch 29/30\n",
      "\u001b[1m58/58\u001b[0m \u001b[32m━━━━━━━━━━━━━━━━━━━━\u001b[0m\u001b[37m\u001b[0m \u001b[1m0s\u001b[0m 691us/step - accuracy: 0.5931 - loss: 1.6804 - val_accuracy: 0.0340 - val_loss: 4.8418\n",
      "Epoch 30/30\n",
      "\u001b[1m58/58\u001b[0m \u001b[32m━━━━━━━━━━━━━━━━━━━━\u001b[0m\u001b[37m\u001b[0m \u001b[1m0s\u001b[0m 689us/step - accuracy: 0.6275 - loss: 1.5850 - val_accuracy: 0.0485 - val_loss: 4.9456\n"
     ]
    }
   ],
   "source": [
    "history = model.fit(\n",
    "    X_train, y_train,\n",
    "    validation_split=0.1,\n",
    "    epochs=30,\n",
    "    batch_size=32\n",
    ")"
   ]
  },
  {
   "cell_type": "markdown",
   "id": "9d84b85a",
   "metadata": {},
   "source": [
    "# Evaluate "
   ]
  },
  {
   "cell_type": "code",
   "execution_count": 23,
   "id": "f76be2e2",
   "metadata": {},
   "outputs": [
    {
     "name": "stdout",
     "output_type": "stream",
     "text": [
      "\u001b[1m12/12\u001b[0m \u001b[32m━━━━━━━━━━━━━━━━━━━━\u001b[0m\u001b[37m\u001b[0m \u001b[1m0s\u001b[0m 1ms/step - accuracy: 0.0348 - loss: 4.9050 \n",
      "Test accuracy: 0.041\n"
     ]
    }
   ],
   "source": [
    "loss, acc = model.evaluate(X_test, y_test)\n",
    "print(f'Test accuracy: {acc:.3f}')"
   ]
  },
  {
   "cell_type": "code",
   "execution_count": 24,
   "id": "31daebac",
   "metadata": {},
   "outputs": [],
   "source": [
    "# Make a preduction"
   ]
  },
  {
   "cell_type": "code",
   "execution_count": 25,
   "id": "53aa5634",
   "metadata": {},
   "outputs": [
    {
     "name": "stdout",
     "output_type": "stream",
     "text": [
      "\u001b[1m1/1\u001b[0m \u001b[32m━━━━━━━━━━━━━━━━━━━━\u001b[0m\u001b[37m\u001b[0m \u001b[1m0s\u001b[0m 26ms/step\n",
      "Predicted Mega Ball: 36\n",
      "Probabilities: [0.005 0.001 0.006 0.011 0.002 0.001 0.049 0.004 0.001 0.004 0.017 0.003\n",
      " 0.085 0.004 0.001 0.003 0.017 0.024 0.093 0.021 0.017 0.01  0.002 0.007\n",
      " 0.056 0.    0.01  0.039 0.011 0.017 0.025 0.002 0.002 0.001 0.009 0.103\n",
      " 0.021 0.045 0.026 0.045 0.06  0.051 0.018 0.021 0.002 0.014 0.005 0.008\n",
      " 0.    0.    0.    0.019]\n"
     ]
    }
   ],
   "source": [
    "# take one example from test set\n",
    "sample_X = X_test[0:1]\n",
    "pred_probs = model.predict(sample_X)[0]\n",
    "pred_label = np.argmax(pred_probs) + 1   # back to 1–25\n",
    "\n",
    "print(f'Predicted Mega Ball: {pred_label}')\n",
    "print(f'Probabilities: {pred_probs.round(3)}')"
   ]
  }
 ],
 "metadata": {
  "kernelspec": {
   "display_name": "base",
   "language": "python",
   "name": "python3"
  },
  "language_info": {
   "codemirror_mode": {
    "name": "ipython",
    "version": 3
   },
   "file_extension": ".py",
   "mimetype": "text/x-python",
   "name": "python",
   "nbconvert_exporter": "python",
   "pygments_lexer": "ipython3",
   "version": "3.12.7"
  }
 },
 "nbformat": 4,
 "nbformat_minor": 5
}
